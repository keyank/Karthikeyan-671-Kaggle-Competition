{
 "cells": [
  {
   "cell_type": "markdown",
   "metadata": {},
   "source": [
    "## Final Ensemble of the results from all the model Classes\n",
    "\n",
    "    1. Again Restart and Run all should work but it needs the results from the pickle files. "
   ]
  },
  {
   "cell_type": "code",
   "execution_count": 1,
   "metadata": {},
   "outputs": [],
   "source": [
    "import os\n",
    "import pickle\n",
    "import pandas as pd\n",
    "import numpy as np\n",
    "\n",
    "import matplotlib.pyplot as plt\n"
   ]
  },
  {
   "cell_type": "markdown",
   "metadata": {},
   "source": [
    "## Random Networks"
   ]
  },
  {
   "cell_type": "code",
   "execution_count": 2,
   "metadata": {},
   "outputs": [],
   "source": [
    "filename = 'random_nn_predictions_prob.pk'\n",
    "filepath = os.path.join('../data/coupons/all_outputs/', filename)\n",
    "all_best_predictions = pickle.load(open(filepath, 'rb+') )\n",
    "\n",
    "\n",
    "filename = 'random_nn_accs_prob.pk'\n",
    "filepath = os.path.join('../data/coupons/all_outputs/', filename)\n",
    "all_best_acc = pickle.load(open(filepath, 'rb+') )\n"
   ]
  },
  {
   "cell_type": "code",
   "execution_count": 3,
   "metadata": {},
   "outputs": [
    {
     "name": "stdout",
     "output_type": "stream",
     "text": [
      " ******* Accuracies *******\n",
      "Avg: 0.777264553051841  Max: 0.8084479371316307  Min: 0.75049115913556 \n",
      "\n",
      " ******* Weights *******\n",
      "Total weights:  1798.607069033582  80% Weights:  1438.8856552268658\n",
      "Top 20: 1310.588971863198\n",
      "Bottom 80: 488.01809717038407\n"
     ]
    },
    {
     "data": {
      "text/plain": [
       "(array([461.,  25.,   4.,   2.,   0.,   0.,   0.,   1.,   0.,   1.]),\n",
       " array([1.58357057e-02, 1.25142521e+01, 2.50126686e+01, 3.75110850e+01,\n",
       "        5.00095014e+01, 6.25079179e+01, 7.50063343e+01, 8.75047507e+01,\n",
       "        1.00003167e+02, 1.12501584e+02, 1.25000000e+02]),\n",
       " <BarContainer object of 10 artists>)"
      ]
     },
     "execution_count": 3,
     "metadata": {},
     "output_type": "execute_result"
    },
    {
     "data": {
      "image/png": "[encoded data removed]",
      "text/plain": [
       "<Figure size 432x288 with 1 Axes>"
      ]
     },
     "metadata": {
      "needs_background": "light"
     },
     "output_type": "display_data"
    }
   ],
   "source": [
    "prob1_array = []\n",
    "acc_array = []\n",
    "\n",
    "\n",
    "for k, v in all_best_predictions.items(): \n",
    "    prob1_array.append(v[:, 1])\n",
    "    acc_array.append(all_best_acc[k])\n",
    "\n",
    "prob1_array = np.array(prob1_array)\n",
    "acc_array = np.array(acc_array)\n",
    "\n",
    "prob1_array = prob1_array[acc_array > 0.75]\n",
    "acc_array = acc_array[acc_array > 0.75]\n",
    "\n",
    "\n",
    "mean_acc = np.mean(acc_array)\n",
    "max_acc = np.max(acc_array)\n",
    "min_acc = np.min(acc_array)\n",
    "\n",
    "print(' ******* Accuracies *******')\n",
    "print('Avg:', mean_acc, ' Max:', max_acc, ' Min:' , min_acc, '\\n')\n",
    "\n",
    "\n",
    "\n",
    "\n",
    "mean_acc = np.mean(acc_array)\n",
    "lmda = np.log(125)/np.max(acc_array-mean_acc)\n",
    "\n",
    "weights = np.exp(lmda* (acc_array - mean_acc) )\n",
    "\n",
    "print(' ******* Weights *******')\n",
    "\n",
    "print('Total weights: ', np.sum(weights), ' 80% Weights: ', 0.8* np.sum(weights))\n",
    "\n",
    "percent_20 = int(0.2*len(weights))\n",
    "\n",
    "sorted_weights = -np.sort(-weights)\n",
    "print('Top 20:', np.sum(sorted_weights[:percent_20] )   )\n",
    "print('Bottom 80:', np.sum(sorted_weights[percent_20:] )   )\n",
    "\n",
    "plt.hist(weights)\n"
   ]
  },
  {
   "cell_type": "code",
   "execution_count": 4,
   "metadata": {},
   "outputs": [
    {
     "name": "stdout",
     "output_type": "stream",
     "text": [
      "Percent of 1s:  0.6092\n"
     ]
    }
   ],
   "source": [
    "rnd_nn_prob_predictions = np.dot(weights,  prob1_array)/np.sum(weights)\n",
    "\n",
    "print('Percent of 1s: ' , np.mean(rnd_nn_prob_predictions > 0.5 ))\n"
   ]
  },
  {
   "cell_type": "markdown",
   "metadata": {},
   "source": [
    "## Simple NN"
   ]
  },
  {
   "cell_type": "code",
   "execution_count": 5,
   "metadata": {},
   "outputs": [],
   "source": [
    "filename = 'simple_nn_predictions_prob.pk'\n",
    "filepath = os.path.join('../data/coupons/all_outputs/', filename)\n",
    "all_best_predictions = pickle.load(open(filepath, 'rb+') )\n",
    "\n",
    "\n",
    "filename = 'simple_nn_accs_prob.pk'\n",
    "filepath = os.path.join('../data/coupons/all_outputs/', filename)\n",
    "all_best_acc = pickle.load(open(filepath, 'rb+') )\n"
   ]
  },
  {
   "cell_type": "code",
   "execution_count": 6,
   "metadata": {},
   "outputs": [
    {
     "name": "stdout",
     "output_type": "stream",
     "text": [
      " ******* Accuracies *******\n",
      "Avg: 0.7772448773457119  Max: 0.7996070726915521  Min: 0.75049115913556 \n",
      "\n",
      " ******* Weights *******\n",
      "Total weights:  3653.2625249118782  80% Weights:  2922.610019929503\n",
      "Top 20: 2928.5579147239405\n",
      "Bottom 80: 724.7046101879369\n"
     ]
    },
    {
     "data": {
      "image/png": "[encoded data removed]",
      "text/plain": [
       "<Figure size 432x288 with 1 Axes>"
      ]
     },
     "metadata": {
      "needs_background": "light"
     },
     "output_type": "display_data"
    }
   ],
   "source": [
    "prob1_array = []\n",
    "acc_array = []\n",
    "\n",
    "\n",
    "for k, v in all_best_predictions.items(): \n",
    "    prob1_array.append(v[:, 1])\n",
    "    acc_array.append(all_best_acc[k])\n",
    "\n",
    "prob1_array = np.array(prob1_array)\n",
    "acc_array = np.array(acc_array)\n",
    "\n",
    "\n",
    "prob1_array = prob1_array[acc_array > 0.75]\n",
    "acc_array = acc_array[acc_array > 0.75]\n",
    "\n",
    "\n",
    "mean_acc = np.mean(acc_array)\n",
    "max_acc = np.max(acc_array)\n",
    "min_acc = np.min(acc_array)\n",
    "\n",
    "print(' ******* Accuracies *******')\n",
    "print('Avg:', mean_acc, ' Max:', max_acc, ' Min:' , min_acc, '\\n')\n",
    "\n",
    "# plt.hist(acc_array)\n",
    "# plt.show()\n",
    "\n",
    "\n",
    "mean_acc = np.mean(acc_array)\n",
    "lmda = np.log(125)/np.max(acc_array-mean_acc)\n",
    "\n",
    "weights = np.exp(lmda* (acc_array - mean_acc) )\n",
    "\n",
    "print(' ******* Weights *******')\n",
    "\n",
    "print('Total weights: ', np.sum(weights), ' 80% Weights: ', 0.8* np.sum(weights))\n",
    "\n",
    "percent_20 = int(0.2*len(weights))\n",
    "\n",
    "sorted_weights = -np.sort(-weights)\n",
    "print('Top 20:', np.sum(sorted_weights[:percent_20] )   )\n",
    "print('Bottom 80:', np.sum(sorted_weights[percent_20:] )   )\n",
    "\n",
    "plt.hist(weights)\n",
    "plt.show()"
   ]
  },
  {
   "cell_type": "code",
   "execution_count": 7,
   "metadata": {},
   "outputs": [
    {
     "name": "stdout",
     "output_type": "stream",
     "text": [
      "Percent of 1s:  0.6064\n"
     ]
    }
   ],
   "source": [
    "simple_nn_prob_predictions = np.dot(weights,  prob1_array)/np.sum(weights)\n",
    "\n",
    "print('Percent of 1s: ' , np.mean(simple_nn_prob_predictions > 0.5 ))\n"
   ]
  },
  {
   "cell_type": "markdown",
   "metadata": {},
   "source": [
    "## Random Forest"
   ]
  },
  {
   "cell_type": "code",
   "execution_count": 8,
   "metadata": {},
   "outputs": [],
   "source": [
    "\n",
    "filename = 'randomforest_predictions_prob.pk'\n",
    "filepath = os.path.join('../data/coupons/all_outputs/', filename)\n",
    "all_y_preds = pickle.load(open(filepath, 'rb+') )\n",
    "\n",
    "filename = 'randomforest_accs_prob.pk'\n",
    "filepath = os.path.join('../data/coupons/all_outputs/', filename)\n",
    "all_eval_acc = pickle.load(open(filepath, 'rb+') )\n",
    "\n"
   ]
  },
  {
   "cell_type": "code",
   "execution_count": 9,
   "metadata": {},
   "outputs": [
    {
     "name": "stdout",
     "output_type": "stream",
     "text": [
      " ******* Accuracies *******\n",
      "Avg: 0.7541854656332204  Max: 0.7598189872428829  Min: 0.7500022665173659 \n",
      "\n",
      " ******* Weights *******\n",
      "Total weights:  170.0370716521593  80% Weights:  136.02965732172746\n",
      "Top 20: 136.38900341527696\n",
      "Bottom 80: 33.648068236882345\n"
     ]
    },
    {
     "data": {
      "text/plain": [
       "(array([35.,  1.,  3.,  0.,  2.,  1.,  2.,  0.,  0.,  1.]),\n",
       " array([ 0.08001223,  3.07201101,  6.06400978,  9.05600856, 12.04800734,\n",
       "        15.04000611, 18.03200489, 21.02400367, 24.01600245, 27.00800122,\n",
       "        30.        ]),\n",
       " <BarContainer object of 10 artists>)"
      ]
     },
     "execution_count": 9,
     "metadata": {},
     "output_type": "execute_result"
    },
    {
     "data": {
      "image/png": "[encoded data removed]",
      "text/plain": [
       "<Figure size 432x288 with 1 Axes>"
      ]
     },
     "metadata": {
      "needs_background": "light"
     },
     "output_type": "display_data"
    }
   ],
   "source": [
    "prob1_array = []\n",
    "acc_array = []\n",
    "\n",
    "\n",
    "for i, v in enumerate(all_y_preds): \n",
    "    prob1_array.append(v[:, 1])\n",
    "    acc_array.append(all_eval_acc[i] )\n",
    "\n",
    "prob1_array = np.array(prob1_array)\n",
    "acc_array = np.array(acc_array)\n",
    "\n",
    "prob1_array = prob1_array[acc_array > 0.75]\n",
    "acc_array = acc_array[acc_array > 0.75]\n",
    "\n",
    "\n",
    "\n",
    "mean_acc = np.mean(acc_array)\n",
    "max_acc = np.max(acc_array)\n",
    "min_acc = np.min(acc_array)\n",
    "\n",
    "print(' ******* Accuracies *******')\n",
    "print('Avg:', mean_acc, ' Max:', max_acc, ' Min:' , min_acc, '\\n')\n",
    "\n",
    "\n",
    "mean_acc = np.mean(acc_array)\n",
    "lmda = np.log(30)/np.max(acc_array-mean_acc)\n",
    "\n",
    "weights = np.exp(lmda* (acc_array - mean_acc) )\n",
    "\n",
    "print(' ******* Weights *******')\n",
    "\n",
    "print('Total weights: ', np.sum(weights), ' 80% Weights: ', 0.8* np.sum(weights))\n",
    "\n",
    "percent_20 = int(0.2*len(weights))\n",
    "\n",
    "sorted_weights = -np.sort(-weights)\n",
    "print('Top 20:', np.sum(sorted_weights[:percent_20] )   )\n",
    "print('Bottom 80:', np.sum(sorted_weights[percent_20:] )   )\n",
    "\n",
    "plt.hist(weights)\n",
    "\n",
    "\n"
   ]
  },
  {
   "cell_type": "code",
   "execution_count": 10,
   "metadata": {},
   "outputs": [
    {
     "name": "stdout",
     "output_type": "stream",
     "text": [
      "Percent of 1s:  0.6148\n"
     ]
    }
   ],
   "source": [
    "rf_predictions = np.dot(weights,  prob1_array)/np.sum(weights)\n",
    "print('Percent of 1s: ' , np.mean(rf_predictions > 0.5 ))\n"
   ]
  },
  {
   "cell_type": "markdown",
   "metadata": {},
   "source": [
    "## XGBoost"
   ]
  },
  {
   "cell_type": "code",
   "execution_count": 11,
   "metadata": {},
   "outputs": [],
   "source": [
    "\n",
    "filename = 'xgboost_predictions_prob.pk'\n",
    "filepath = os.path.join('../data/coupons/all_outputs/', filename)\n",
    "all_y_preds = pickle.load(open(filepath, 'rb+') )\n",
    "\n",
    "filename = 'xgboost_accs_prob.pk'\n",
    "filepath = os.path.join('../data/coupons/all_outputs/', filename)\n",
    "all_eval_acc = pickle.load(open(filepath, 'rb+') )\n",
    "\n"
   ]
  },
  {
   "cell_type": "code",
   "execution_count": 12,
   "metadata": {},
   "outputs": [
    {
     "name": "stdout",
     "output_type": "stream",
     "text": [
      " ******* Accuracies *******\n",
      "Avg: 0.7563721029123759  Max: 0.760899296222246  Min: 0.7504903393314063 \n",
      "\n",
      " ******* Weights *******\n",
      "Total weights:  361.1886148646347  80% Weights:  288.9508918917078\n",
      "Top 20: 271.8978107202327\n",
      "Bottom 80: 89.290804144402\n"
     ]
    },
    {
     "data": {
      "text/plain": [
       "(array([27.,  4.,  3.,  3.,  0.,  0.,  0.,  0.,  0.,  1.]),\n",
       " array([2.52107035e-03, 1.00022690e+01, 2.00020169e+01, 3.00017647e+01,\n",
       "        4.00015126e+01, 5.00012605e+01, 6.00010084e+01, 7.00007563e+01,\n",
       "        8.00005042e+01, 9.00002521e+01, 1.00000000e+02]),\n",
       " <BarContainer object of 10 artists>)"
      ]
     },
     "execution_count": 12,
     "metadata": {},
     "output_type": "execute_result"
    },
    {
     "data": {
      "image/png": "[encoded data removed]",
      "text/plain": [
       "<Figure size 432x288 with 1 Axes>"
      ]
     },
     "metadata": {
      "needs_background": "light"
     },
     "output_type": "display_data"
    }
   ],
   "source": [
    "prob1_array = []\n",
    "acc_array = []\n",
    "\n",
    "for i, v in enumerate(all_y_preds): \n",
    "    prob1_array.append(v[:, 1])\n",
    "    acc_array.append(all_eval_acc[i] )\n",
    "\n",
    "prob1_array = np.array(prob1_array)\n",
    "acc_array = np.array(acc_array)\n",
    "\n",
    "prob1_array = prob1_array[acc_array > 0.75]\n",
    "acc_array = acc_array[acc_array > 0.75]\n",
    "\n",
    "\n",
    "mean_acc = np.mean(acc_array)\n",
    "max_acc = np.max(acc_array)\n",
    "min_acc = np.min(acc_array)\n",
    "\n",
    "print(' ******* Accuracies *******')\n",
    "print('Avg:', mean_acc, ' Max:', max_acc, ' Min:' , min_acc, '\\n')\n",
    "\n",
    "\n",
    "mean_acc = np.mean(acc_array)\n",
    "lmda = np.log(100)/np.max(acc_array-mean_acc)\n",
    "\n",
    "weights = np.exp(lmda* (acc_array - mean_acc) )\n",
    "\n",
    "print(' ******* Weights *******')\n",
    "\n",
    "print('Total weights: ', np.sum(weights), ' 80% Weights: ', 0.8* np.sum(weights))\n",
    "\n",
    "percent_20 = int(0.2*len(weights))\n",
    "\n",
    "sorted_weights = -np.sort(-weights)\n",
    "print('Top 20:', np.sum(sorted_weights[:percent_20] )   )\n",
    "print('Bottom 80:', np.sum(sorted_weights[percent_20:] )   )\n",
    "\n",
    "plt.hist(weights)\n"
   ]
  },
  {
   "cell_type": "code",
   "execution_count": 13,
   "metadata": {},
   "outputs": [
    {
     "name": "stdout",
     "output_type": "stream",
     "text": [
      "Percent of 1s:  0.6004\n"
     ]
    }
   ],
   "source": [
    "xgb_predictions = np.dot(weights,  prob1_array)/np.sum(weights)\n",
    "print('Percent of 1s: ' , np.mean(xgb_predictions > 0.5 ))\n"
   ]
  },
  {
   "cell_type": "markdown",
   "metadata": {},
   "source": [
    "## Compare all 4s"
   ]
  },
  {
   "cell_type": "code",
   "execution_count": 14,
   "metadata": {},
   "outputs": [
    {
     "name": "stdout",
     "output_type": "stream",
     "text": [
      "0.9112 0.9248 0.9244\n",
      "0.884 0.8884\n",
      "0.9796\n"
     ]
    }
   ],
   "source": [
    "xgb_rf = np.mean(( xgb_predictions > 0.5 ) == (rf_predictions > 0.5))\n",
    "xgb_rnd_nn = np.mean(( xgb_predictions > 0.5 ) == (rnd_nn_prob_predictions > 0.5))\n",
    "xgb_simple_nn = np.mean(( xgb_predictions > 0.5 ) == (simple_nn_prob_predictions > 0.5))\n",
    "\n",
    "print(xgb_rf, xgb_rnd_nn, xgb_simple_nn)\n",
    "\n",
    "rf_rnd_nn = np.mean(( rf_predictions > 0.5 ) == (rnd_nn_prob_predictions > 0.5))\n",
    "rf_simple_nn = np.mean(( rf_predictions > 0.5 ) == (simple_nn_prob_predictions > 0.5))\n",
    "\n",
    "print(rf_rnd_nn, rf_simple_nn)\n",
    "\n",
    "rnd_nn_simple_nn = np.mean(( rnd_nn_prob_predictions > 0.5 ) == (simple_nn_prob_predictions > 0.5))\n",
    "\n",
    "print(rnd_nn_simple_nn)\n"
   ]
  },
  {
   "cell_type": "markdown",
   "metadata": {},
   "source": [
    "## Combine all 4"
   ]
  },
  {
   "cell_type": "code",
   "execution_count": 31,
   "metadata": {},
   "outputs": [
    {
     "name": "stdout",
     "output_type": "stream",
     "text": [
      "0.6184\n"
     ]
    }
   ],
   "source": [
    "final_prediction = 1/4*(rnd_nn_prob_predictions + simple_nn_prob_predictions + \n",
    "                        rf_predictions + xgb_predictions)\n",
    "\n",
    "print( np.mean(final_prediction >  0.485) )\n"
   ]
  },
  {
   "cell_type": "code",
   "execution_count": 32,
   "metadata": {},
   "outputs": [
    {
     "data": {
      "text/plain": [
       "array([0.48616085, 0.48560454, 0.48397987, 0.48909545, 0.48680829,\n",
       "       0.48316569])"
      ]
     },
     "execution_count": 32,
     "metadata": {},
     "output_type": "execute_result"
    }
   ],
   "source": [
    "y_pred = final_prediction > 0.485\n",
    "\n",
    "final_prediction[(final_prediction > 0.48) != (final_prediction > 0.49)]"
   ]
  },
  {
   "cell_type": "code",
   "execution_count": 33,
   "metadata": {},
   "outputs": [],
   "source": [
    "test_path = '../data/coupons/test.csv'\n",
    "\n",
    "test_data = pd.read_csv(test_path)\n",
    "\n",
    "\n",
    "output = pd.DataFrame()\n",
    "output['id'] = test_data['id']\n",
    "output['Decision'] = 1*y_pred\n"
   ]
  },
  {
   "cell_type": "code",
   "execution_count": 36,
   "metadata": {},
   "outputs": [],
   "source": [
    "output.to_csv('../data/coupons/all4_pareto_4832_ensembled_output.csv', index=None)\n"
   ]
  }
 ],
 "metadata": {
  "kernelspec": {
   "display_name": "Python 3",
   "language": "python",
   "name": "python3"
  },
  "language_info": {
   "codemirror_mode": {
    "name": "ipython",
    "version": 3
   },
   "file_extension": ".py",
   "mimetype": "text/x-python",
   "name": "python",
   "nbconvert_exporter": "python",
   "pygments_lexer": "ipython3",
   "version": "3.7.7"
  }
 },
 "nbformat": 4,
 "nbformat_minor": 4
}
