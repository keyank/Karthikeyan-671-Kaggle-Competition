{
 "cells": [
  {
   "cell_type": "code",
   "execution_count": 9,
   "metadata": {},
   "outputs": [],
   "source": [
    "import pandas as pd \n",
    "import numpy as np\n",
    "from collections import Counter\n",
    "\n",
    "\n",
    "from scipy import stats\n",
    "from sklearn.model_selection import KFold\n",
    "from sklearn.model_selection import cross_val_score\n",
    "\n",
    "from sklearn import  linear_model\n",
    "from sklearn import tree\n",
    "from sklearn.ensemble import RandomForestClassifier, AdaBoostClassifier\n",
    "\n",
    "from data_processing import *\n",
    "from scipy import stats\n"
   ]
  },
  {
   "cell_type": "code",
   "execution_count": 2,
   "metadata": {},
   "outputs": [],
   "source": [
    "train_path = '../data/coupons/train.csv'\n",
    "test_path = '../data/coupons/test.csv'\n",
    "sample_path = '../data/coupons/sample_submission1.csv'\n",
    "\n",
    "data = pd.read_csv(train_path)\n",
    "test_data = pd.read_csv(test_path)\n",
    "\n",
    "data = data.dropna()"
   ]
  },
  {
   "cell_type": "code",
   "execution_count": 6,
   "metadata": {},
   "outputs": [],
   "source": [
    "drop_first = False\n",
    "prune=False\n",
    "\n",
    "X_df, y_df = clean_all(data, drop_first, prune)"
   ]
  },
  {
   "cell_type": "code",
   "execution_count": 55,
   "metadata": {},
   "outputs": [
    {
     "name": "stdout",
     "output_type": "stream",
     "text": [
      "-0.07754121440186343 Driving_to_Home\n",
      "0.13235409802359258 Driving_to_No Urgent Place\n",
      "-0.07503537937095016 Driving_to_Work\n",
      "-0.10365567820891863 Passanger_Alone\n",
      "0.13353104287940729 Passanger_Friend(s)\n",
      "-0.0728853232810988 Weather_Rainy\n",
      "-0.08089988086485735 Weather_Snowy\n",
      "0.11567851995218231 Weather_Sunny\n",
      "0.0692124639076862 Temperature_80\n",
      "-0.05232902675665262 Time_10PM\n",
      "0.08960965495526851 Time_2PM\n",
      "-0.07503537937095016 Time_7AM\n",
      "-0.14417012569612278 Coupon_Bar\n",
      "0.16444351041802327 Coupon_Carry out & Take away\n",
      "-0.09282817382060889 Coupon_Coffee House\n",
      "-0.08910516202825089 Coupon_Restaurant(20-50)\n",
      "0.14647225387492838 Coupon_Restaurant(<20)\n",
      "0.1304626632089428 Coupon_validity_1d\n",
      "-0.1304626632089428 Coupon_validity_2h\n",
      "-0.05407517008491442 Age_50plus\n",
      "0.058097890754637026 Maritalstatus_Single\n",
      "0.05421901205256955 Children_0\n",
      "-0.05421901205256955 Children_1\n",
      "-0.0757439394638285 Bar_0.0\n",
      "0.05687935784228983 Bar_2.0\n",
      "-0.12010748519442933 Coffeehouse_0.0\n",
      "0.0974356594816624 Coffeehouse_2.0\n",
      "0.05213285736107848 Coffeehouse_3.0\n",
      "-0.056553420922764 Carryaway_1.0\n"
     ]
    }
   ],
   "source": [
    "for column in list(X_df.columns): \n",
    "    corr = stats.pearsonr(X_df[column], y_df)\n",
    "    if abs(corr[0]) > 0.05: \n",
    "        print(corr[0], column)\n"
   ]
  },
  {
   "cell_type": "markdown",
   "metadata": {},
   "source": [
    "Driving_to_No Urgent Place: +1 \n",
    "Driving_to_Work, home : -1\n",
    "\n",
    "Passanger_Friend(s) +1 \n",
    "Passanger_Alone: -1\n",
    "\n",
    "Weather_Rainy, Weather_Snowy = -1 \n",
    "Weather_Sunny = +1 \n",
    "\n",
    "Temperature_80 = +1 \n",
    "\n",
    "Time_10PM,  Time_7AM = -1\n",
    "Time_2PM = +1\n",
    "\n",
    "\n",
    "Coupon_Carry out & Take away = +1\n",
    "Coupon_Restaurant(<20) = +1\n",
    "Coupon_Restaurant(20-50) = -1\n",
    "\n",
    "\n",
    "Coupon_Bar = -1\n",
    "Coupon_Coffee House = -1 \n",
    "\n",
    "\n",
    "Coupon_validity_1d = +1\n",
    "Coupon_validity_2h = -1 \n",
    "\n",
    "\n",
    "Gender_Female = -1 \n",
    "Gender_male = +1\n",
    "\n",
    "\n",
    "Maritalstatus_Single = +1 \n",
    "Coffeehouse_2.0 = +1 \n",
    "Coffeehouse_3.0 = +1\n",
    "\n",
    "\n",
    "Coffeehouse_0.0 = -1\n",
    "Bar_0.0 = -1"
   ]
  },
  {
   "cell_type": "code",
   "execution_count": null,
   "metadata": {},
   "outputs": [],
   "source": [
    "X = np.array(X_df)\n",
    "y = np.array(y_df)\n",
    "\n",
    "X.shape, y.shape"
   ]
  },
  {
   "cell_type": "code",
   "execution_count": null,
   "metadata": {},
   "outputs": [],
   "source": [
    "kf = KFold(n_splits=10, random_state=True, shuffle=True)\n"
   ]
  },
  {
   "cell_type": "code",
   "execution_count": null,
   "metadata": {},
   "outputs": [],
   "source": [
    "!pip install xgboost\n"
   ]
  },
  {
   "cell_type": "code",
   "execution_count": null,
   "metadata": {},
   "outputs": [],
   "source": [
    "from sklearn.svm import SVC\n",
    "from sklearn.neural_network import MLPClassifier\n",
    "from sklearn.linear_model import LogisticRegression\n",
    "from sklearn.kernel_ridge import KernelRidge\n",
    "\n",
    "from sklearn.ensemble import GradientBoostingClassifier\n",
    "\n",
    "import xgboost as xgb\n"
   ]
  },
  {
   "cell_type": "code",
   "execution_count": null,
   "metadata": {},
   "outputs": [],
   "source": [
    "# clf = RandomForestClassifier()\n",
    "# clf = tree.DecisionTreeClassifier()\n",
    "# clf = AdaBoostClassifier()\n",
    "# clf = SVC(kernel=\"linear\", C=0.025)\n",
    "\n",
    "# clf = MLPClassifier(hidden_layer_sizes=(100, ), solver='lbfgs')\n",
    "\n",
    "# clf = KernelRidge(alpha=1.0)\n",
    "\n",
    "clf = xgb.XGBClassifier()\n",
    "\n",
    "\n",
    "\n",
    "avg_score = 0\n",
    "\n",
    "for train_index, val_index in kf.split(X):\n",
    "    X_train, X_val = X[train_index], X[val_index]\n",
    "    y_train, y_val = y[train_index], y[val_index]\n",
    "    clf.fit(X_train, y_train)\n",
    "#     score = np.mean(y_val == 1*(clf.predict(X_val) > 0.5) )\n",
    "    score = clf.score(X_val, y_val)\n",
    "    avg_score += score \n",
    "    print(score)\n",
    "\n",
    "print('\\n\\nAVG:', avg_score/10)"
   ]
  },
  {
   "cell_type": "code",
   "execution_count": null,
   "metadata": {},
   "outputs": [],
   "source": [
    "sample_output = pd.read_csv(sample_path)\n",
    "sample_output"
   ]
  },
  {
   "cell_type": "code",
   "execution_count": null,
   "metadata": {},
   "outputs": [],
   "source": [
    "clf = RandomForestClassifier()\n",
    "clf.fit(X, y)\n"
   ]
  },
  {
   "cell_type": "code",
   "execution_count": null,
   "metadata": {},
   "outputs": [],
   "source": [
    "drop_first = False\n",
    "prune=False\n",
    "\n",
    "X_test_df, _ = clean_all(test_data, drop_first, prune)\n"
   ]
  },
  {
   "cell_type": "code",
   "execution_count": null,
   "metadata": {},
   "outputs": [],
   "source": [
    "y_pred = clf.predict(X_test_df)"
   ]
  },
  {
   "cell_type": "code",
   "execution_count": null,
   "metadata": {},
   "outputs": [],
   "source": [
    "output = pd.DataFrame()\n",
    "output['id'] = test_data['id']\n",
    "output['Decision'] = y_pred\n"
   ]
  },
  {
   "cell_type": "code",
   "execution_count": null,
   "metadata": {},
   "outputs": [],
   "source": [
    "output.to_csv('../data/coupons/output.csv', index=None)"
   ]
  },
  {
   "cell_type": "code",
   "execution_count": null,
   "metadata": {},
   "outputs": [],
   "source": [
    "pd.read_csv('../data/coupons/output.csv')"
   ]
  }
 ],
 "metadata": {
  "kernelspec": {
   "display_name": "Python 3",
   "language": "python",
   "name": "python3"
  },
  "language_info": {
   "codemirror_mode": {
    "name": "ipython",
    "version": 3
   },
   "file_extension": ".py",
   "mimetype": "text/x-python",
   "name": "python",
   "nbconvert_exporter": "python",
   "pygments_lexer": "ipython3",
   "version": "3.7.7"
  }
 },
 "nbformat": 4,
 "nbformat_minor": 4
}
