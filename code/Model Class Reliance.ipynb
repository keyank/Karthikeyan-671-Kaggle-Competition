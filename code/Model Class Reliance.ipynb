{
 "cells": [
  {
   "cell_type": "markdown",
   "metadata": {},
   "source": [
    "# Model Class Reliance \n",
    "\n",
    "    1. Refer Section 2 of the report \n",
    "    2. Restart and run all should work. However, you need the outputs from random forest and xgboost (to select top 5.)\n",
    "    3. But I have manually written the best hyperparameters, so it should work with restart and run all. "
   ]
  },
  {
   "cell_type": "code",
   "execution_count": 7,
   "metadata": {},
   "outputs": [],
   "source": [
    "import pandas as pd\n",
    "import numpy as np\n",
    "\n",
    "from data_processing import *\n",
    "import matplotlib.pyplot as plt\n",
    "\n",
    "import pickle\n",
    "from sklearn import tree\n",
    "from collections import Counter\n",
    "import math\n",
    "\n",
    "from sklearn.ensemble import RandomForestClassifier\n",
    "import xgboost as xgb\n"
   ]
  },
  {
   "cell_type": "code",
   "execution_count": 2,
   "metadata": {},
   "outputs": [],
   "source": [
    "train_path = '../data/coupons/train.csv'\n",
    "test_path = '../data/coupons/test.csv'\n",
    "sample_path = '../data/coupons/sample_submission1.csv'\n",
    "\n",
    "data = pd.read_csv(train_path)"
   ]
  },
  {
   "cell_type": "code",
   "execution_count": 3,
   "metadata": {},
   "outputs": [],
   "source": [
    "drop_first, prune = False, False\n",
    "\n",
    "data = data.sample(frac=1, random_state=0)\n",
    "num_train = int(0.7*len(data))\n",
    "\n",
    "data_train = data[:num_train]\n",
    "data_test = data[num_train:]\n",
    "\n",
    "X_train_df, y_train_df = clean_all(data_train, drop_first, prune)\n",
    "y_train = np.array(y_train_df)\n",
    "X_train = np.array(X_train_df)\n",
    "\n",
    "\n"
   ]
  },
  {
   "cell_type": "code",
   "execution_count": 4,
   "metadata": {},
   "outputs": [],
   "source": [
    "def scramble_feature(df, feature):\n",
    "    scrambled_feature = np.array(df[feature])\n",
    "    np.random.shuffle(scrambled_feature)\n",
    "    df[feature] = scrambled_feature\n",
    "    return df \n",
    "\n"
   ]
  },
  {
   "cell_type": "code",
   "execution_count": 5,
   "metadata": {},
   "outputs": [
    {
     "name": "stdout",
     "output_type": "stream",
     "text": [
      "Random Forest [(8, 0.7598189872428829), (16, 0.759229596280211), (45, 0.7590347722342943), (41, 0.758936395735861), (4, 0.7586402053175391)]\n",
      "XGBoost [(1, 0.760899296222246), (32, 0.7598217842217598), (10, 0.7598209161938325), (17, 0.759819131914204), (36, 0.7595248222230581)]\n"
     ]
    }
   ],
   "source": [
    "'''\n",
    "The below code is used to select the 5 best models \n",
    "'''\n",
    "\n",
    "'''\n",
    "\n",
    "# random_forests \n",
    "\n",
    "accs = pickle.load(open('../data/coupons/all_outputs/randomforest_accs_prob.pk', 'rb+'))\n",
    "\n",
    "accs = list(accs)\n",
    "index = list(range(len(accs)))\n",
    "\n",
    "combined = list(zip(index, accs))\n",
    "\n",
    "combined.sort(key=lambda x: x[1], reverse=True)\n",
    "\n",
    "print('Random Forest',  combined[:5])\n",
    "\n",
    "\n",
    "best_5 = [item[0] for item in combined[:5] ]\n",
    "\n",
    "best_5_hyp = [hyper_pram_list[i] for i in  best_5]\n",
    "\n",
    "\n",
    "\n",
    "# XGBoost\n",
    "\n",
    "\n",
    "accs = pickle.load(open('../data/coupons/all_outputs/xgboost_accs_prob.pk', 'rb+'))\n",
    "\n",
    "accs = list(accs)\n",
    "index = list(range(len(accs)))\n",
    "\n",
    "combined = list(zip(index, accs))\n",
    "\n",
    "combined.sort(key=lambda x: x[1], reverse=True)\n",
    "\n",
    "print('XGBoost',  combined[:5])\n",
    "\n",
    "\n",
    "best_5 = [item[0] for item in combined[:5] ]\n",
    "\n",
    "best_5_hyp = [hyper_pram_list[i] for i in  best_5]\n",
    "\n",
    "'''\n",
    "\n",
    "\n",
    "\n",
    "\n",
    "best_5_hyp_rf = [(200, 'entropy', 0.2, True),\n",
    " (500, 'gini', 0.2, True),\n",
    " (200, 'gini', 0.2, False),\n",
    " (500, 'gini', 0.2, False),\n",
    " (500, 'entropy', 0.2, True)]\n",
    "\n",
    "\n",
    "best_5_hyp_xgb = [(100, 10, 0.9), \n",
    "              (500, 10, 1), \n",
    "              (200, 5, 0.9), \n",
    "              (200, 10, 1), \n",
    "              (500, 20, 0.8)]\n"
   ]
  },
  {
   "cell_type": "code",
   "execution_count": 6,
   "metadata": {},
   "outputs": [],
   "source": [
    "all_MR = []\n",
    "\n",
    "all_features = list(data_test.columns)[2:]\n",
    "\n",
    "for i, (n_est, criterion, max_features, oob_score) in enumerate(best_5_hyp_rf): \n",
    "    \n",
    "    clf = RandomForestClassifier(n_estimators=n_est, criterion=criterion, n_jobs=-1, \n",
    "                                               max_features=max_features, oob_score=oob_score)\n",
    "    clf.fit(X_train, y_train)\n",
    "    \n",
    "    X_test_df, y_test_df = clean_all(data_test, drop_first, prune)\n",
    "    X_test, y_test = np.array(X_test_df), np.array(y_test_df)\n",
    "\n",
    "    error_init = 1 - clf.score(X_test, y_test)\n",
    "    \n",
    "    MR = {}\n",
    "    \n",
    "    for feature in all_features:\n",
    "        data_test_scrambled = data_test.copy()\n",
    "        data_test_scrambled = scramble_feature(data_test_scrambled, feature)\n",
    "        \n",
    "        X_test_df, y_test_df = clean_all(data_test_scrambled, drop_first, prune)\n",
    "        X_test, y_test = np.array(X_test_df), np.array(y_test_df)\n",
    "        error_feature_scrambled = 1 - clf.score(X_test, y_test)\n",
    "        \n",
    "        MR[feature] = error_feature_scrambled/error_init    \n",
    "    \n",
    "    all_MR.append(MR)\n"
   ]
  },
  {
   "cell_type": "code",
   "execution_count": 29,
   "metadata": {},
   "outputs": [],
   "source": [
    "for i, (n_est, max_depth, gamma) in enumerate(best_5_hyp_xgb): \n",
    "    \n",
    "    print('Model:', i+1, ' of 5')\n",
    "    \n",
    "    clf = xgb.XGBClassifier(n_estimators=n_est, max_depth=max_depth, gamma=gamma)\n",
    "    \n",
    "    clf.fit(X_train, y_train)\n",
    "    \n",
    "    X_test_df, y_test_df = clean_all(data_test, drop_first, prune)\n",
    "    X_test, y_test = np.array(X_test_df), np.array(y_test_df)\n",
    "\n",
    "    error_init = 1 - clf.score(X_test, y_test)\n",
    "    \n",
    "    MR = {}\n",
    "    \n",
    "    for feature in all_features:\n",
    "        data_test_scrambled = data_test.copy()\n",
    "        data_test_scrambled = scramble_feature(data_test_scrambled, feature)\n",
    "        \n",
    "        X_test_df, y_test_df = clean_all(data_test_scrambled, drop_first, prune)\n",
    "        X_test, y_test = np.array(X_test_df), np.array(y_test_df)\n",
    "        error_feature_scrambled = 1 - clf.score(X_test, y_test)\n",
    "        \n",
    "        MR[feature] = error_feature_scrambled/error_init    \n",
    "    \n",
    "    all_MR.append(MR)\n"
   ]
  },
  {
   "cell_type": "code",
   "execution_count": 11,
   "metadata": {},
   "outputs": [],
   "source": [
    "min_MR = {}\n",
    "max_MR = {}\n",
    "avg_MR = {}\n",
    "\n",
    "for feature in all_features:\n",
    "    all_vals = [MR[feature] for MR in all_MR]\n",
    "    min_MR[feature] = np.min(all_vals)\n",
    "    max_MR[feature] = np.max(all_vals)\n",
    "    avg_MR[feature] = np.mean(all_vals)\n"
   ]
  },
  {
   "cell_type": "code",
   "execution_count": 28,
   "metadata": {},
   "outputs": [
    {
     "name": "stderr",
     "output_type": "stream",
     "text": [
      "/opt/conda/lib/python3.7/site-packages/ipykernel_launcher.py:17: UserWarning: FixedFormatter should only be used together with FixedLocator\n"
     ]
    },
    {
     "data": {
      "text/plain": [
       "<matplotlib.legend.Legend at 0x7f63eb77c8d0>"
      ]
     },
     "execution_count": 28,
     "metadata": {},
     "output_type": "execute_result"
    },
    {
     "data": {
      "image/png": "[encoded data removed]",
      "text/plain": [
       "<Figure size 1440x360 with 1 Axes>"
      ]
     },
     "metadata": {
      "needs_background": "light"
     },
     "output_type": "display_data"
    }
   ],
   "source": [
    "results = list(avg_MR.items())\n",
    "\n",
    "results.sort(key=lambda x: x[1] , reverse=True)\n",
    "\n",
    "init_features = [item[0] for item in results]\n",
    "mr_list = [item[1] for item in results]\n",
    "min_mr_list = [item[1] - min_MR[item[0]] for item in results]\n",
    "max_mr_list = [max_MR[item[0]] - item[1]  for item in results]\n",
    "\n",
    "\n",
    "fig, axes = plt.subplots(nrows=1, ncols=1, figsize=(20,5))\n",
    "\n",
    "axes.bar(init_features, mr_list, yerr=[min_mr_list, max_mr_list] )\n",
    "\n",
    "axes.plot( init_features , [1]*len(init_features), color='red', linewidth=3, label='MR = 1')\n",
    "\n",
    "axes.set_xticklabels(init_features, rotation=90)\n",
    "axes.set_ylabel('Model Class Reliance')\n",
    "axes.set_ylim([0.9, 1.6])\n",
    "\n",
    "\n",
    "fig.suptitle('Model Class Reliance of all the features \\n (Model Class = 5 models from Random Forest and 5 Models from XGBoost)', \n",
    "            fontsize=15)\n",
    "plt.legend()\n",
    "\n",
    "\n",
    "\n"
   ]
  },
  {
   "cell_type": "code",
   "execution_count": null,
   "metadata": {},
   "outputs": [],
   "source": []
  }
 ],
 "metadata": {
  "kernelspec": {
   "display_name": "Python 3",
   "language": "python",
   "name": "python3"
  },
  "language_info": {
   "codemirror_mode": {
    "name": "ipython",
    "version": 3
   },
   "file_extension": ".py",
   "mimetype": "text/x-python",
   "name": "python",
   "nbconvert_exporter": "python",
   "pygments_lexer": "ipython3",
   "version": "3.7.7"
  }
 },
 "nbformat": 4,
 "nbformat_minor": 4
}
