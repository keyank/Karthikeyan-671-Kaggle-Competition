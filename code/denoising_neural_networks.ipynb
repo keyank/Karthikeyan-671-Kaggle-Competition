{
 "cells": [
  {
   "cell_type": "markdown",
   "metadata": {},
   "source": [
    "# Denoising Autoencoder \n",
    "\n",
    "    1. Tried but the model is not as useful as expected. \n",
    "    2. Not used in any analysis (only in the section Fixing Mistakes)"
   ]
  },
  {
   "cell_type": "code",
   "execution_count": null,
   "metadata": {},
   "outputs": [],
   "source": [
    "import torch \n",
    "import torch.nn as nn \n",
    "import torch.optim as optim \n",
    "from torch.utils.data import DataLoader, TensorDataset\n",
    "import torch.nn.functional as F\n",
    "\n",
    "import copy\n",
    "\n",
    "import numpy as np\n",
    "from tqdm import tqdm\n",
    "\n",
    "device = torch.device('cuda' if torch.cuda.is_available() else 'cpu')\n",
    "print(device)\n",
    "\n",
    "from sklearn.model_selection import KFold, train_test_split\n",
    "import matplotlib.pyplot as plt\n"
   ]
  },
  {
   "cell_type": "markdown",
   "metadata": {},
   "source": [
    "### The Forward pass of NN would output x reconstructed as well as the label. \n",
    "\n",
    "    1. During pretraining the input is corrupted data (call noisy_encode)\n",
    "    2. During finetuning the input is not corrupted. "
   ]
  },
  {
   "cell_type": "code",
   "execution_count": null,
   "metadata": {},
   "outputs": [],
   "source": [
    "class Simple_NN(nn.Module):\n",
    "    def __init__(self, input_dim, hidd_dim, dropout_rate=0.8, denoise_dropout=0.8):\n",
    "        super(Simple_NN, self).__init__()\n",
    "        \n",
    "        self.linear1 = nn.Sequential(\n",
    "                            nn.Linear(input_dim, hidd_dim), \n",
    "                            nn.Dropout(p=dropout_rate), \n",
    "                            nn.ReLU())\n",
    "        \n",
    "        self.linear2 = nn.Sequential(\n",
    "                            nn.Linear(hidd_dim, hidd_dim), \n",
    "                            nn.Dropout(p=dropout_rate) , \n",
    "                            nn.ReLU())\n",
    "        \n",
    "        self.linear3 = nn.Sequential(\n",
    "                            nn.Linear(hidd_dim, hidd_dim), \n",
    "                            nn.Dropout(p=dropout_rate) , \n",
    "                            nn.ReLU())\n",
    "\n",
    "        self.linear_final = nn.Linear(hidd_dim, 2)\n",
    "        \n",
    "        self.linear_decode = nn.Sequential( nn.Linear(hidd_dim, input_dim), \n",
    "                                           nn.Sigmoid())\n",
    "        \n",
    "        self.drop =  nn.Dropout(p=denoise_dropout) \n",
    "\n",
    "    def forward(self, x): \n",
    "        x = self.linear1(x)\n",
    "        x = self.linear2(x)\n",
    "        x = self.linear3(x)\n",
    "        \n",
    "        x_recon = self.linear_decode(x)\n",
    "        x_label = self.linear_final(x)\n",
    "        \n",
    "        return x_recon, x_label\n",
    "    \n",
    "    def noisy_encode(self, x): \n",
    "        x = self.drop(x)\n",
    "        return self.forward(x)\n",
    "        \n"
   ]
  },
  {
   "cell_type": "code",
   "execution_count": null,
   "metadata": {},
   "outputs": [],
   "source": [
    "from data_processing import *\n",
    "\n",
    "train_path = '../data/coupons/train.csv'\n",
    "test_path = '../data/coupons/test.csv'\n",
    "sample_path = '../data/coupons/sample_submission1.csv'\n",
    "\n",
    "data = pd.read_csv(train_path)\n",
    "test_data = pd.read_csv(test_path)"
   ]
  },
  {
   "cell_type": "code",
   "execution_count": null,
   "metadata": {},
   "outputs": [],
   "source": [
    "criterion = nn.CrossEntropyLoss()\n",
    "criterion.to(device)\n",
    "\n",
    "criterion_recon = nn.MSELoss()\n",
    "criterion_recon.to(device)\n"
   ]
  },
  {
   "cell_type": "code",
   "execution_count": null,
   "metadata": {},
   "outputs": [],
   "source": [
    "drop_first = False\n",
    "prune=False\n",
    "\n",
    "X_df, y_df = clean_all(data, drop_first, prune)\n",
    "\n",
    "X = np.array(X_df)\n",
    "y = np.array(y_df)\n",
    "\n",
    "\n",
    "X_train_np, X_val_np, y_train_np, y_val_np = train_test_split(X, y, test_size=0.2, random_state=1)\n",
    "\n"
   ]
  },
  {
   "cell_type": "code",
   "execution_count": null,
   "metadata": {
    "scrolled": true
   },
   "outputs": [],
   "source": [
    "X_full = torch.tensor(X).type(torch.FloatTensor)\n",
    "y_full = torch.tensor(y)\n",
    "\n",
    "\n",
    "X_train = torch.tensor(X_train_np).type(torch.FloatTensor)\n",
    "X_val = torch.tensor(X_val_np).type(torch.FloatTensor)\n",
    "\n",
    "y_train = torch.tensor(y_train_np)\n",
    "y_val = torch.tensor(y_val_np)\n",
    "\n",
    "full_dataset = TensorDataset(X_full, y_full) # create your datset\n",
    "full_dataloader =  DataLoader(dataset=full_dataset, batch_size=64, shuffle=True)\n",
    "\n",
    "\n",
    "train_dataset = TensorDataset(X_train, y_train) # create your datset\n",
    "train_dataloader =  DataLoader(dataset=train_dataset, batch_size=64, shuffle=True)\n",
    "\n",
    "eval_dataset = TensorDataset(X_val, y_val) # create your datset\n",
    "eval_dataloader =  DataLoader(dataset=eval_dataset, batch_size=512, shuffle=True)\n"
   ]
  },
  {
   "cell_type": "code",
   "execution_count": null,
   "metadata": {},
   "outputs": [],
   "source": [
    "def eval_model(eval_dataloader, model):\n",
    "    pred = []\n",
    "    true = []\n",
    "    eval_loss = 0 \n",
    "    \n",
    "    model.eval()\n",
    "    for i, (x, y) in enumerate(eval_dataloader): \n",
    "        x = x.to(device)\n",
    "        y = y.to(device)\n",
    "        \n",
    "        with torch.no_grad(): \n",
    "            x_recon, x_label = model(x) \n",
    "            loss = criterion(x_label, y)\n",
    "            eval_loss += loss \n",
    "            pred_labels = torch.argmax(x_label, axis=1)\n",
    "            \n",
    "            pred.extend(pred_labels)\n",
    "            true.extend(y)\n",
    "        \n",
    "    pred = torch.tensor(pred).cpu().numpy()\n",
    "    true = torch.tensor(true).cpu().numpy()\n",
    "    \n",
    "    eval_loss = eval_loss/(i+1)\n",
    "    \n",
    "    acc = np.mean(pred == true)\n",
    "    model.train()\n",
    "    return acc, eval_loss\n",
    "    \n"
   ]
  },
  {
   "cell_type": "code",
   "execution_count": null,
   "metadata": {},
   "outputs": [],
   "source": [
    "def test_model(test_dataloader, model):\n",
    "    pred = []\n",
    "    \n",
    "    model.eval()\n",
    "    for i, (x, y) in enumerate(test_dataloader): \n",
    "        x = x.to(device)\n",
    "        \n",
    "        with torch.no_grad(): \n",
    "            x_recon, x_label = model(x) \n",
    "            pred_labels = torch.argmax(x_label, axis=1)\n",
    "            \n",
    "            pred.extend(pred_labels)\n",
    "        \n",
    "    pred = torch.tensor(pred).cpu().numpy()\n",
    "    model.train()\n",
    "    return pred\n",
    "    \n"
   ]
  },
  {
   "cell_type": "markdown",
   "metadata": {},
   "source": [
    "## Pretraining "
   ]
  },
  {
   "cell_type": "code",
   "execution_count": null,
   "metadata": {},
   "outputs": [],
   "source": [
    "model = Simple_NN(input_dim=110, hidd_dim=1000, dropout_rate=0.5, denoise_dropout=0.8)\n",
    "model.to(device)\n",
    "\n",
    "optimizer = torch.optim.Adam(model.parameters())\n",
    "\n",
    "\n",
    "for epoch in range(50): \n",
    "    model.train()\n",
    "    total_loss = 0 \n",
    "    for i, (x, y) in enumerate(train_dataloader): \n",
    "        x = x.to(device)\n",
    "        y = y.to(device)\n",
    "\n",
    "        optimizer.zero_grad()\n",
    "\n",
    "        x_recon, x_label = model.noisy_encode(x) \n",
    "        \n",
    "        loss_label = criterion(x_label, y)\n",
    "        loss_recon = criterion_recon(x_recon, x)\n",
    "        \n",
    "        loss = loss_recon\n",
    "\n",
    "        loss.backward()\n",
    "        optimizer.step()\n",
    "\n",
    "        total_loss += loss.item()\n",
    "        "
   ]
  },
  {
   "cell_type": "markdown",
   "metadata": {},
   "source": [
    "## Finetune"
   ]
  },
  {
   "cell_type": "code",
   "execution_count": null,
   "metadata": {},
   "outputs": [],
   "source": [
    "train_losses = []\n",
    "eval_losses = []\n",
    "eval_acc = []\n",
    "\n",
    "\n",
    "for epoch in range(100): \n",
    "    model.train()\n",
    "    total_loss = 0 \n",
    "    for i, (x, y) in enumerate(train_dataloader): \n",
    "        x = x.to(device)\n",
    "        y = y.to(device)\n",
    "\n",
    "        optimizer.zero_grad()\n",
    "\n",
    "        x_recon, x_label = model(x) \n",
    "        \n",
    "        loss_label = criterion(x_label, y)\n",
    "        loss = loss_label\n",
    "\n",
    "        loss.backward()\n",
    "        optimizer.step()\n",
    "\n",
    "        total_loss += loss.item()\n",
    "        \n",
    "    total_loss = total_loss/(i+1)\n",
    "    acc, eval_loss = eval_model(eval_dataloader, model)\n",
    "    \n",
    "    train_losses.append(total_loss)\n",
    "    eval_losses.append(eval_loss)\n",
    "    eval_acc.append(acc)\n",
    "    \n",
    "print('Max Eval Acc: ', np.max(eval_acc))\n",
    "print('Final Eval accuracy:', eval_acc[-1] )\n"
   ]
  },
  {
   "cell_type": "code",
   "execution_count": null,
   "metadata": {},
   "outputs": [],
   "source": [
    "from scipy import stats\n",
    "\n",
    "\n",
    "eval_analysis_dataloader =  DataLoader(dataset=eval_dataset, batch_size=1, shuffle=False)\n",
    "\n",
    "\n",
    "pred = []\n",
    "true = []\n",
    "eval_loss = 0 \n",
    "\n",
    "model.eval()\n",
    "\n",
    "all_loss_label = []\n",
    "all_loss_recon = []\n",
    "\n",
    "all_pred = []\n",
    "all_label = []\n",
    "\n",
    "\n",
    "for i, (x, y) in enumerate(eval_analysis_dataloader): \n",
    "    x = x.to(device)\n",
    "    y = y.to(device)\n",
    "\n",
    "    with torch.no_grad(): \n",
    "        \n",
    "        x_recon, x_label = model(x) \n",
    "        loss_label = criterion(x_label, y)\n",
    "        loss_recon = criterion_recon(x_recon, x)\n",
    "        \n",
    "        pred_labels = torch.argmax(x_label, axis=1)\n",
    "        all_pred.extend(pred_labels)\n",
    "        all_label.extend(y)\n",
    "                        \n",
    "        all_loss_label.append(loss_label.item() )\n",
    "        all_loss_recon.append(loss_recon.item() )\n",
    "            \n",
    "            \n",
    "all_loss_label = torch.tensor(all_loss_label).cpu().numpy()\n",
    "all_loss_recon = torch.tensor(all_loss_recon).cpu().numpy()\n",
    "\n",
    "all_pred = torch.tensor(all_pred).cpu().numpy()\n",
    "all_label = torch.tensor(all_label).cpu().numpy()\n",
    "\n",
    "\n",
    "\n",
    "stats.pearsonr(all_loss_label, all_loss_recon)"
   ]
  },
  {
   "cell_type": "code",
   "execution_count": null,
   "metadata": {},
   "outputs": [],
   "source": []
  },
  {
   "cell_type": "code",
   "execution_count": null,
   "metadata": {},
   "outputs": [],
   "source": []
  },
  {
   "cell_type": "code",
   "execution_count": null,
   "metadata": {},
   "outputs": [],
   "source": []
  },
  {
   "cell_type": "code",
   "execution_count": null,
   "metadata": {},
   "outputs": [],
   "source": []
  },
  {
   "cell_type": "code",
   "execution_count": null,
   "metadata": {},
   "outputs": [],
   "source": []
  },
  {
   "cell_type": "code",
   "execution_count": null,
   "metadata": {},
   "outputs": [],
   "source": []
  },
  {
   "cell_type": "code",
   "execution_count": null,
   "metadata": {},
   "outputs": [],
   "source": []
  }
 ],
 "metadata": {
  "kernelspec": {
   "display_name": "Python 3",
   "language": "python",
   "name": "python3"
  },
  "language_info": {
   "codemirror_mode": {
    "name": "ipython",
    "version": 3
   },
   "file_extension": ".py",
   "mimetype": "text/x-python",
   "name": "python",
   "nbconvert_exporter": "python",
   "pygments_lexer": "ipython3",
   "version": "3.7.7"
  }
 },
 "nbformat": 4,
 "nbformat_minor": 4
}
